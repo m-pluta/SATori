{
 "cells": [
  {
   "cell_type": "code",
   "execution_count": 2,
   "metadata": {},
   "outputs": [],
   "source": [
    "# Imports\n",
    "import timeit\n",
    "import numpy as np\n",
    "from collections import Counter\n",
    "from itertools import chain\n",
    "from printUtils import printTime\n",
    "from vsdc48 import load_dimacs, containsComplementPair, check_truth_assignment"
   ]
  },
  {
   "cell_type": "code",
   "execution_count": 3,
   "metadata": {},
   "outputs": [],
   "source": [
    "# Returns the variables ordered in descending order of occurrence given a Counter object\n",
    "def orderVars(vars):\n",
    "    order = []\n",
    "    # Order the variables in descending order of occurrence\n",
    "    for var in vars.most_common():\n",
    "        # If the literal's complement is already in the order then don't append it\n",
    "        if -var[0] not in order:\n",
    "            order.append(var[0])\n",
    "    return order"
   ]
  },
  {
   "cell_type": "code",
   "execution_count": 4,
   "metadata": {},
   "outputs": [],
   "source": [
    "# Initialises a dictionary with 0s for each variable\n",
    "def createPartialAssignment(vars):\n",
    "    return dict.fromkeys([abs(var) for var in vars], 0)"
   ]
  },
  {
   "cell_type": "code",
   "execution_count": 5,
   "metadata": {},
   "outputs": [],
   "source": [
    "def initialiseWatchedLiterals(order):\n",
    "    watched_literals = {}\n",
    "    for var in order:\n",
    "        watched_literals[var] = []\n",
    "        watched_literals[-var] = []\n",
    "    return watched_literals\n",
    "    # Potential alternative:\n",
    "    # watched_literals = dict.fromkeys(vars.keys(), [])"
   ]
  },
  {
   "cell_type": "code",
   "execution_count": 6,
   "metadata": {},
   "outputs": [],
   "source": [
    "# Return the watched literal dict, initial unit_literals, frequency order of variables\n",
    "def dictify(clause_set):\n",
    "    # Count all literals\n",
    "    vars = Counter(chain.from_iterable(clause_set))\n",
    "\n",
    "    # Order the variables\n",
    "    order = orderVars(vars)\n",
    "    \n",
    "    # Initialise each literal in the dict with an empty list\n",
    "    watched_literals = initialiseWatchedLiterals(order)\n",
    "    \n",
    "    # List for unit literals found in the initial clause_set\n",
    "    initial_unit_literals = set()\n",
    "    # Go through each clause set and identify them as a unit clause or give them two watched-literals\n",
    "    for clause in clause_set:\n",
    "        if len(clause) == 1:\n",
    "            initial_unit_literals.add(clause[0])\n",
    "            continue\n",
    "        watched_literals[clause[0]].append(clause)\n",
    "        watched_literals[clause[1]].append(clause)\n",
    "\n",
    "    return watched_literals, initial_unit_literals, order"
   ]
  },
  {
   "cell_type": "code",
   "execution_count": 7,
   "metadata": {},
   "outputs": [],
   "source": [
    "def dpll_sat_solve(clause_set, partial_assignment=None):\n",
    "    # Setup DPLL\n",
    "    dict, u_literals, orderVars = dictify(clause_set)\n",
    "    # Initialise partial assignment\n",
    "    partial_assignment = createPartialAssignment(orderVars)\n",
    "\n",
    "    # Attempt to find solution\n",
    "    result = backtrack(dict, partial_assignment, u_literals, orderVars)\n",
    "    \n",
    "    # If there is a result, convert it from dictionary to list \n",
    "    return [i for i in result.values()] if result else False"
   ]
  },
  {
   "cell_type": "code",
   "execution_count": 8,
   "metadata": {},
   "outputs": [],
   "source": [
    "def unit_propagate(dict, units, partial_assignment):\n",
    "    # Init\n",
    "    units_propagated = [] # Unit literals that have so far been set to true\n",
    "    u_literals = list(units)\n",
    "\n",
    "    while u_literals:\n",
    "        # If there is complement pair in the literal list then there is a conflict\n",
    "        # e.g. if 1 and -1 are in the list then both of them cannot be true\n",
    "        if containsComplementPair(u_literals):\n",
    "            # Unassign all the variables that have been so far set to true during unit prop and return\n",
    "            unassignVars(partial_assignment, units_propagated)\n",
    "            return False\n",
    "        \n",
    "        # Dequeue next unit literal\n",
    "        var = u_literals.pop(0)\n",
    "\n",
    "        # Set the unit literal to true and add new unit literals to the queue\n",
    "        newUnits = setVar(dict, var, partial_assignment)\n",
    "        u_literals.extend(list(newUnits))\n",
    "\n",
    "        units_propagated.append(var)\n",
    "\n",
    "    return units_propagated"
   ]
  },
  {
   "cell_type": "code",
   "execution_count": 9,
   "metadata": {},
   "outputs": [],
   "source": [
    "# Main function\n",
    "def backtrack(dict, partial_assignment, u_literals, orderVars):\n",
    "    # Unit propagate over all the unit literals\n",
    "    if u_literals:\n",
    "        # Unit Propagate functions returns all units that were recursively propagated\n",
    "        # i.e. Provided units could have led to more unit literals\n",
    "        u_literals = unit_propagate(dict, u_literals, partial_assignment)\n",
    "        if not u_literals:\n",
    "            # If the unit prop returned False then there was a ComplementPair conflict\n",
    "            return\n",
    "\n",
    "    # If the partial assignment is full then return it, it must be correct\n",
    "    if 0 not in partial_assignment.values():\n",
    "        return partial_assignment\n",
    "    \n",
    "\n",
    "    # if Φ contains an empty clause then\n",
    "    #     return false\n",
    "\n",
    "\n",
    "    nextVariable = getNextVariable(orderVars, partial_assignment)\n",
    "\n",
    "    # Branch to the positive and negative literals\n",
    "    for branchLiteral in [nextVariable, -nextVariable]:\n",
    "        # Set the variable\n",
    "        units = setVar(dict, branchLiteral, partial_assignment)\n",
    "\n",
    "        # If the branching variable led to an empty clause\n",
    "        # then try the other variable, or backtrack by exiting for each loop\n",
    "        if units == False:\n",
    "            continue\n",
    "\n",
    "        # Branch on the variable that was set\n",
    "        result = backtrack(dict, partial_assignment, units, orderVars)\n",
    "        if result:\n",
    "            return result\n",
    "        \n",
    "        # Unassign the set variable if it didnt lead to a solution\n",
    "        partial_assignment[abs(branchLiteral)] = 0\n",
    "\n",
    "    # Unset all the unit literals before backtracking\n",
    "    unassignVars(partial_assignment, u_literals)\n",
    "    return False"
   ]
  },
  {
   "cell_type": "code",
   "execution_count": 10,
   "metadata": {},
   "outputs": [],
   "source": [
    "# Sets the variable, updates the dict and partial_assignment\n",
    "def setVar(dict, var, partial_assignment):\n",
    "    units = set() # Units found while setting the variable\n",
    "    partial_assignment[abs(var)] = var # Set the variable in the partial_assignment\n",
    "    \n",
    "    newList = [] # Clauses that should remain in the watch literal\n",
    "    for clause in dict[-var]:\n",
    "        # If the clause is already true then it keep being watched by that literal, and skip it\n",
    "        if isClauseSat(clause, partial_assignment):\n",
    "            newList.append(clause)\n",
    "            continue\n",
    "        \n",
    "        unassigned_variables = [literal for literal in clause if partial_assignment[abs(literal)] == 0]\n",
    "        \n",
    "        # The clause is unsat and has no free variables so it is an empty clause\n",
    "        if not unassigned_variables:\n",
    "            return False\n",
    "        # The clause is unsat but has one free variable so it is a unit literal\n",
    "        elif len(unassigned_variables) == 1:\n",
    "            units.add(unassigned_variables[0])\n",
    "            newList.append(clause)\n",
    "        # The clause is unsat and has >1 free variable so it is possible to switch the watch literal\n",
    "        else:\n",
    "            newLiteral = nextWatchLiteral(dict, clause, unassigned_variables)\n",
    "            dict[newLiteral].append(clause)\n",
    "    \n",
    "    dict[-var] = newList # Update the dict\n",
    "    return units # Return all the unit literals that have been found"
   ]
  },
  {
   "cell_type": "code",
   "execution_count": 11,
   "metadata": {},
   "outputs": [],
   "source": [
    "# Given a list of variables to unassign, they are set to 0 in the partial assignment\n",
    "def unassignVars(partial_assignment, vars):\n",
    "    for var in vars:\n",
    "        partial_assignment[abs(var)] = 0"
   ]
  },
  {
   "cell_type": "code",
   "execution_count": 12,
   "metadata": {},
   "outputs": [],
   "source": [
    "# Determines which literal in a clause should be watched\n",
    "def nextWatchLiteral(dict, clause, unassigned_variables):\n",
    "    for var in unassigned_variables:\n",
    "        # If the literal is not a watched literal already\n",
    "        if clause not in dict[var]:\n",
    "            return var\n",
    "    return None"
   ]
  },
  {
   "cell_type": "code",
   "execution_count": 13,
   "metadata": {},
   "outputs": [],
   "source": [
    "# Checks if a given clause is True\n",
    "def isClauseSat(clause, partial_assignment):\n",
    "    for literal in clause:\n",
    "        # Check if any variable in the partial assignment satisfies the clause\n",
    "        if partial_assignment[abs(literal)] == literal:\n",
    "            return True\n",
    "    return False"
   ]
  },
  {
   "cell_type": "code",
   "execution_count": 14,
   "metadata": {},
   "outputs": [],
   "source": [
    "# Returns the most common free variable\n",
    "def getNextVariable(orderVars, partial_assignment):\n",
    "    for var in orderVars:\n",
    "        # Returns variable if it is free\n",
    "        if partial_assignment[abs(var)] == 0:\n",
    "            return var\n",
    "    return None"
   ]
  },
  {
   "cell_type": "code",
   "execution_count": 25,
   "metadata": {},
   "outputs": [],
   "source": [
    "clauses = load_dimacs('sat_instances/LNP-6.txt')"
   ]
  },
  {
   "cell_type": "code",
   "execution_count": 24,
   "metadata": {},
   "outputs": [
    {
     "name": "stdout",
     "output_type": "stream",
     "text": [
      "[-28, -37, -29, -36, -19, -46, -20, -38, -21, -27, -30, -35, -43, -22, -44, -45, -10, -55, -11, -18, -26, -34, 42, -47, -50, 12, -39, -51, -13, -31, -52, -14, 23, 53, -15, -54, -1, -2, -3, -4, -5, 6, -7, -8, -9, -17, 25, -33, -41, -49, -57, -64, -56, -58, -48, 59, 40, -60, -32, -61, -24, -62, -16, -63]\n",
      "True\n"
     ]
    }
   ],
   "source": [
    "sol = dpll_sat_solve(clauses)\n",
    "print(sol)\n",
    "if sol:\n",
    "    print(check_truth_assignment(clauses, sol))"
   ]
  },
  {
   "cell_type": "code",
   "execution_count": 18,
   "metadata": {},
   "outputs": [
    {
     "data": {
      "text/plain": [
       "[0.0018373000202700496]"
      ]
     },
     "execution_count": 18,
     "metadata": {},
     "output_type": "execute_result"
    }
   ],
   "source": [
    "timeit.repeat('dpll_sat_solve(clauses)', globals=globals(), number=1, repeat=1)"
   ]
  },
  {
   "cell_type": "code",
   "execution_count": 19,
   "metadata": {},
   "outputs": [
    {
     "name": "stderr",
     "output_type": "stream",
     "text": [
      "UsageError: Line magic function `%lprun` not found.\n"
     ]
    }
   ],
   "source": [
    "%lprun -f dpll_sat_solve dpll_sat_solve(clauses)"
   ]
  },
  {
   "cell_type": "markdown",
   "metadata": {},
   "source": [
    "## Load Profiler"
   ]
  },
  {
   "cell_type": "code",
   "execution_count": 20,
   "metadata": {},
   "outputs": [
    {
     "name": "stdout",
     "output_type": "stream",
     "text": [
      "Requirement already satisfied: line_profiler in c:\\users\\michal\\appdata\\local\\programs\\python\\python311\\lib\\site-packages (4.0.2)\n"
     ]
    }
   ],
   "source": [
    "!pip install line_profiler"
   ]
  },
  {
   "cell_type": "code",
   "execution_count": 21,
   "metadata": {},
   "outputs": [],
   "source": [
    "%load_ext line_profiler"
   ]
  },
  {
   "cell_type": "code",
   "execution_count": null,
   "metadata": {},
   "outputs": [],
   "source": []
  }
 ],
 "metadata": {
  "kernelspec": {
   "display_name": "Python 3",
   "language": "python",
   "name": "python3"
  },
  "language_info": {
   "codemirror_mode": {
    "name": "ipython",
    "version": 3
   },
   "file_extension": ".py",
   "mimetype": "text/x-python",
   "name": "python",
   "nbconvert_exporter": "python",
   "pygments_lexer": "ipython3",
   "version": "3.11.1"
  }
 },
 "nbformat": 4,
 "nbformat_minor": 4
}
